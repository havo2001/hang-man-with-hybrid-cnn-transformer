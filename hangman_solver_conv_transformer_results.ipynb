{
 "cells": [
  {
   "cell_type": "code",
   "execution_count": 3,
   "id": "3f4e0442",
   "metadata": {},
   "outputs": [],
   "source": [
    "import torch \n",
    "import numpy as np\n",
    "from tqdm import tqdm\n",
    "from create_training_examples import *\n",
    "from model import build_model"
   ]
  },
  {
   "cell_type": "code",
   "execution_count": 4,
   "id": "ea1d356c",
   "metadata": {},
   "outputs": [],
   "source": [
    "def simulate_test_game(word, model, device, max_wrong_guesses=6, verbose=2):\n",
    "    '''\n",
    "    Play a game of hangman with the given word using the model.\n",
    "    Inputs:\n",
    "        word: the word to guess\n",
    "        model: the model to use for guessing\n",
    "        max_wrong_guesses: the maximum number of wrong guesses allowed\n",
    "    Returns:\n",
    "        True if the word was guessed correctly, False otherwise\n",
    "    '''\n",
    "    word_ids = {}\n",
    "    for i, c in enumerate(word):\n",
    "        if c not in word_ids:\n",
    "            word_ids[c] = []\n",
    "        word_ids[c].append(i)\n",
    "\n",
    "    guessed_chars = {}\n",
    "    encoded_word = '*' * len(word)\n",
    "    num_guesses = 0\n",
    "\n",
    "\n",
    "    while encoded_word != word and num_guesses < max_wrong_guesses:\n",
    "        if verbose > 0:\n",
    "            print(f'Current word: {encoded_word}')\n",
    "            print(f'Guesses so far: {guessed_chars}')\n",
    "\n",
    "        final_chr, final_prob = None, None\n",
    "        for i, c in enumerate(encoded_word):\n",
    "            copy_word = encoded_word\n",
    "            if c == '*':\n",
    "                copy_word = list(encoded_word)\n",
    "                copy_word[i] = MASK_CHAR\n",
    "                copy_word = ''.join(copy_word)\n",
    "\n",
    "                masked_info  = create_single_masked_word(copy_word, i)\n",
    "                if not masked_info:\n",
    "                    continue\n",
    "\n",
    "                tok, _, idx, pad_mask = masked_info\n",
    "                tokens_tensor = torch.tensor(tok).unsqueeze(0).to(device)\n",
    "                mask_idx_tensor = torch.tensor(idx).to(device)\n",
    "                pad_mask_tensor = torch.tensor(pad_mask).unsqueeze(0).to(device)\n",
    "\n",
    "                with torch.no_grad():\n",
    "                    logits = model(tokens_tensor, mask_idx_tensor, pad_mask_tensor)\n",
    "                    pred_idx = logits.argmax(dim=1).item()\n",
    "                    predicted_char = ID2CHAR[pred_idx]\n",
    "\n",
    "                    while predicted_char in guessed_chars:\n",
    "                        logits[0, pred_idx] = -float('inf')\n",
    "                        pred_idx = logits.argmax(dim=1).item()\n",
    "                        predicted_char = ID2CHAR[pred_idx]\n",
    "\n",
    "                    if final_chr is None or logits[0, pred_idx].item() > final_prob:\n",
    "                        final_chr = predicted_char\n",
    "                        final_prob = logits[0, pred_idx].item()\n",
    "\n",
    "        if final_chr in word:\n",
    "            for idx in word_ids[final_chr]:\n",
    "                encoded_word = encoded_word[:idx] + final_chr + encoded_word[idx + 1:]\n",
    "        else:\n",
    "            num_guesses += 1\n",
    "        guessed_chars[final_chr] = True\n",
    "\n",
    "        if verbose > 1:\n",
    "            print(f'Guessing character: {final_chr}')\n",
    "            print(f'Hangman state:', encoded_word)\n",
    "            print(f'Number of wrong guesses: {num_guesses}')\n",
    "    if verbose > 0:\n",
    "        if encoded_word == word:\n",
    "            print(f'Word guessed correctly: {word}')\n",
    "            print('You win!')\n",
    "        else:\n",
    "            print(f'Word not guessed: {word}')\n",
    "            print('You lose!')\n",
    "    return encoded_word == word"
   ]
  },
  {
   "cell_type": "code",
   "execution_count": 7,
   "id": "6b478a4e",
   "metadata": {},
   "outputs": [
    {
     "name": "stderr",
     "output_type": "stream",
     "text": [
      "/Users/thithuhavo/PycharmProjects/hang-man-with-hybrid-cnn-transformer/hangman_env/lib/python3.12/site-packages/torch/nn/modules/transformer.py:382: UserWarning: enable_nested_tensor is True, but self.use_nested_tensor is False because encoder_layer.norm_first was True\n",
      "  warnings.warn(\n"
     ]
    },
    {
     "name": "stdout",
     "output_type": "stream",
     "text": [
      "Current word: ************\n",
      "Guesses so far: {}\n",
      "Guessing character: i\n",
      "Hangman state: *********i**\n",
      "Number of wrong guesses: 0\n",
      "Current word: *********i**\n",
      "Guesses so far: {'i': True}\n",
      "Guessing character: n\n",
      "Hangman state: *********i*n\n",
      "Number of wrong guesses: 0\n",
      "Current word: *********i*n\n",
      "Guesses so far: {'i': True, 'n': True}\n",
      "Guessing character: o\n",
      "Hangman state: ****o****ion\n",
      "Number of wrong guesses: 0\n",
      "Current word: ****o****ion\n",
      "Guesses so far: {'i': True, 'n': True, 'o': True}\n",
      "Guessing character: t\n",
      "Hangman state: ****o***tion\n",
      "Number of wrong guesses: 0\n",
      "Current word: ****o***tion\n",
      "Guesses so far: {'i': True, 'n': True, 'o': True, 't': True}\n",
      "Guessing character: a\n",
      "Hangman state: ****o***tion\n",
      "Number of wrong guesses: 1\n",
      "Current word: ****o***tion\n",
      "Guesses so far: {'i': True, 'n': True, 'o': True, 't': True, 'a': True}\n",
      "Guessing character: c\n",
      "Hangman state: ****o**ction\n",
      "Number of wrong guesses: 1\n",
      "Current word: ****o**ction\n",
      "Guesses so far: {'i': True, 'n': True, 'o': True, 't': True, 'a': True, 'c': True}\n",
      "Guessing character: f\n",
      "Hangman state: ****o**ction\n",
      "Number of wrong guesses: 2\n",
      "Current word: ****o**ction\n",
      "Guesses so far: {'i': True, 'n': True, 'o': True, 't': True, 'a': True, 'c': True, 'f': True}\n",
      "Guessing character: u\n",
      "Hangman state: ****o*uction\n",
      "Number of wrong guesses: 2\n",
      "Current word: ****o*uction\n",
      "Guesses so far: {'i': True, 'n': True, 'o': True, 't': True, 'a': True, 'c': True, 'f': True, 'u': True}\n",
      "Guessing character: d\n",
      "Hangman state: ****oduction\n",
      "Number of wrong guesses: 2\n",
      "Current word: ****oduction\n",
      "Guesses so far: {'i': True, 'n': True, 'o': True, 't': True, 'a': True, 'c': True, 'f': True, 'u': True, 'd': True}\n",
      "Guessing character: r\n",
      "Hangman state: r**roduction\n",
      "Number of wrong guesses: 2\n",
      "Current word: r**roduction\n",
      "Guesses so far: {'i': True, 'n': True, 'o': True, 't': True, 'a': True, 'c': True, 'f': True, 'u': True, 'd': True, 'r': True}\n",
      "Guessing character: e\n",
      "Hangman state: re*roduction\n",
      "Number of wrong guesses: 2\n",
      "Current word: re*roduction\n",
      "Guesses so far: {'i': True, 'n': True, 'o': True, 't': True, 'a': True, 'c': True, 'f': True, 'u': True, 'd': True, 'r': True, 'e': True}\n",
      "Guessing character: p\n",
      "Hangman state: reproduction\n",
      "Number of wrong guesses: 2\n",
      "Word guessed correctly: reproduction\n",
      "You win!\n"
     ]
    },
    {
     "data": {
      "text/plain": [
       "True"
      ]
     },
     "execution_count": 7,
     "metadata": {},
     "output_type": "execute_result"
    }
   ],
   "source": [
    "# Set up the device \n",
    "if torch.backends.mps.is_available():\n",
    "    device = torch.device('mps')\n",
    "elif torch.cuda.is_available():\n",
    "    device = torch.device('cuda')\n",
    "else:\n",
    "    device = torch.device('cpu')\n",
    "\n",
    "model = build_model(d_model=256, num_encoder_layers=4)\n",
    "model.load_state_dict(torch.load('model/checkpoint_epoch_10.pt', map_location=device))\n",
    "model.to(device)\n",
    "\n",
    "simulate_test_game('reproduction', model, device, max_wrong_guesses=6, verbose=2)"
   ]
  },
  {
   "cell_type": "code",
   "execution_count": 8,
   "id": "9e7f1dea",
   "metadata": {},
   "outputs": [
    {
     "name": "stderr",
     "output_type": "stream",
     "text": [
      "100%|██████████| 2494/2494 [14:58<00:00,  2.78it/s]"
     ]
    },
    {
     "name": "stdout",
     "output_type": "stream",
     "text": [
      "Total correct guesses: 1343\n",
      "Accuracy: 53.85%\n"
     ]
    },
    {
     "name": "stderr",
     "output_type": "stream",
     "text": [
      "\n"
     ]
    }
   ],
   "source": [
    "# Test the accuracy on the training set\n",
    "total_correct = 0\n",
    "train_words = open('data/train_data.txt').read().splitlines()\n",
    "\n",
    "# Get the random 2500 words from the training set\n",
    "train_words = np.random.choice(train_words, size=2500, replace=False).tolist()\n",
    "train_words = [word for word in train_words if len(word) > 2] # Filter out words with length <= 2\n",
    "for word in tqdm(train_words):\n",
    "    if simulate_test_game(word, model, device, max_wrong_guesses=6, verbose=0):\n",
    "        total_correct += 1\n",
    "print(f'Total correct guesses: {total_correct}')\n",
    "print(f'Accuracy: {total_correct / len(train_words) * 100:.2f}%')"
   ]
  },
  {
   "cell_type": "code",
   "execution_count": 9,
   "id": "4009ea0b",
   "metadata": {},
   "outputs": [
    {
     "name": "stderr",
     "output_type": "stream",
     "text": [
      "100%|██████████| 2504/2504 [15:14<00:00,  2.74it/s]"
     ]
    },
    {
     "name": "stdout",
     "output_type": "stream",
     "text": [
      "Total correct guesses: 1454\n",
      "Accuracy: 58.07%\n"
     ]
    },
    {
     "name": "stderr",
     "output_type": "stream",
     "text": [
      "\n"
     ]
    }
   ],
   "source": [
    "# Test the accuracy on the test set\n",
    "total_correct = 0\n",
    "test_words = open('data/final_test_words.txt').read().splitlines()\n",
    "test_words = [word for word in test_words if len(word) > 2] # Filter out words with length <= 2\n",
    "for word in tqdm(test_words):\n",
    "    if simulate_test_game(word, model, device, max_wrong_guesses=6, verbose=0):\n",
    "        total_correct += 1\n",
    "print(f'Total correct guesses: {total_correct}')\n",
    "print(f'Accuracy: {total_correct / len(test_words) * 100:.2f}%')"
   ]
  }
 ],
 "metadata": {
  "kernelspec": {
   "display_name": "hangman_env",
   "language": "python",
   "name": "python3"
  },
  "language_info": {
   "codemirror_mode": {
    "name": "ipython",
    "version": 3
   },
   "file_extension": ".py",
   "mimetype": "text/x-python",
   "name": "python",
   "nbconvert_exporter": "python",
   "pygments_lexer": "ipython3",
   "version": "3.12.6"
  }
 },
 "nbformat": 4,
 "nbformat_minor": 5
}
